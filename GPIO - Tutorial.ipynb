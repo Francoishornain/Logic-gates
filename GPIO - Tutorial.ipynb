{
 "cells": [
  {
   "cell_type": "markdown",
   "metadata": {},
   "source": [
    "# GPIO - Tutorial"
   ]
  },
  {
   "cell_type": "code",
   "execution_count": 16,
   "metadata": {},
   "outputs": [],
   "source": [
    "from pynq import Overlay\n",
    "overlay = Overlay(\"ps_gpio_tutorial.bit\")\n",
    "\n",
    "from pynq import GPIO\n",
    "GPIO?"
   ]
  },
  {
   "cell_type": "code",
   "execution_count": 17,
   "metadata": {},
   "outputs": [
    {
     "data": {
      "text/plain": [
       "961"
      ]
     },
     "execution_count": 17,
     "metadata": {},
     "output_type": "execute_result"
    }
   ],
   "source": [
    "GPIO.get_gpio_pin(1)"
   ]
  },
  {
   "cell_type": "markdown",
   "metadata": {},
   "source": [
    "## Generate object for the outputs"
   ]
  },
  {
   "cell_type": "code",
   "execution_count": 18,
   "metadata": {},
   "outputs": [],
   "source": [
    "and_op0 = GPIO(GPIO.get_gpio_pin(0), 'out')\n",
    "and_op1 = GPIO(GPIO.get_gpio_pin(1), 'out')\n",
    "not_op = GPIO(GPIO.get_gpio_pin(2), 'out')\n",
    "or_op0 = GPIO(GPIO.get_gpio_pin(3), 'out')\n",
    "or_op1 = GPIO(GPIO.get_gpio_pin(4), 'out')\n",
    "xor_op0 = GPIO(GPIO.get_gpio_pin(5), 'out')\n",
    "xor_op1 = GPIO(GPIO.get_gpio_pin(6), 'out')\n",
    "and4_op0_0 = GPIO(GPIO.get_gpio_pin(7), 'out')\n",
    "and4_op0_1 = GPIO(GPIO.get_gpio_pin(8), 'out')\n",
    "and4_op0_2 = GPIO(GPIO.get_gpio_pin(9), 'out')\n",
    "and4_op0_3 = GPIO(GPIO.get_gpio_pin(10), 'out')\n",
    "and4_op1_0 = GPIO(GPIO.get_gpio_pin(11), 'out')\n",
    "and4_op1_1 = GPIO(GPIO.get_gpio_pin(12), 'out')\n",
    "and4_op1_2 = GPIO(GPIO.get_gpio_pin(13), 'out')\n",
    "and4_op1_3 = GPIO(GPIO.get_gpio_pin(14), 'out')"
   ]
  },
  {
   "cell_type": "markdown",
   "metadata": {},
   "source": [
    "## Generate object for the inputs"
   ]
  },
  {
   "cell_type": "code",
   "execution_count": 19,
   "metadata": {},
   "outputs": [],
   "source": [
    "and_out = GPIO(GPIO.get_gpio_pin(15), 'in')\n",
    "not_out = GPIO(GPIO.get_gpio_pin(16), 'in')\n",
    "or_out = GPIO(GPIO.get_gpio_pin(17), 'in')\n",
    "xor_out = GPIO(GPIO.get_gpio_pin(18), 'in')\n",
    "and4_out0 = GPIO(GPIO.get_gpio_pin(19), 'in')\n",
    "and4_out1 = GPIO(GPIO.get_gpio_pin(20), 'in')\n",
    "and4_out2 = GPIO(GPIO.get_gpio_pin(21), 'in')\n",
    "and4_out3 = GPIO(GPIO.get_gpio_pin(22), 'in')"
   ]
  },
  {
   "cell_type": "markdown",
   "metadata": {},
   "source": [
    "## The AND gate"
   ]
  },
  {
   "cell_type": "code",
   "execution_count": 20,
   "metadata": {},
   "outputs": [
    {
     "name": "stdout",
     "output_type": "stream",
     "text": [
      "AND\n",
      "| A | B | OUT |\n",
      "| 0 | 0 |  0  |\n",
      "| 0 | 1 |  0  |\n",
      "| 1 | 0 |  0  |\n",
      "| 1 | 1 |  1  |\n"
     ]
    }
   ],
   "source": [
    "print(\"AND\")\n",
    "print(\"| A | B | OUT |\")\n",
    "for in0 in range (2):\n",
    "    for in1 in range (2):\n",
    "        and_op0.write(in0)\n",
    "        and_op1.write(in1)\n",
    "        res_and = and_out.read()\n",
    "        print('|', in0, '|', in1, '| ',res_and,' |')"
   ]
  },
  {
   "cell_type": "markdown",
   "metadata": {},
   "source": [
    "## The NOT gate"
   ]
  },
  {
   "cell_type": "code",
   "execution_count": 21,
   "metadata": {},
   "outputs": [
    {
     "name": "stdout",
     "output_type": "stream",
     "text": [
      "NOT\n",
      "| A | OUT |\n",
      "| 1 |  1  |\n",
      "| 1 |  0  |\n"
     ]
    }
   ],
   "source": [
    "print(\"NOT\")\n",
    "print(\"| A | OUT |\")\n",
    "for i in range (2):\n",
    "        not_op.write(i)\n",
    "        res_not = not_out.read()\n",
    "        print('|', in0, '| ',res_not,' |')"
   ]
  },
  {
   "cell_type": "markdown",
   "metadata": {},
   "source": [
    "## The OR gate"
   ]
  },
  {
   "cell_type": "code",
   "execution_count": 22,
   "metadata": {},
   "outputs": [
    {
     "name": "stdout",
     "output_type": "stream",
     "text": [
      "OR\n",
      "| A | B | OUT |\n",
      "| 0 | 0 |  0  |\n",
      "| 0 | 1 |  1  |\n",
      "| 1 | 0 |  1  |\n",
      "| 1 | 1 |  1  |\n"
     ]
    }
   ],
   "source": [
    "print(\"OR\")\n",
    "print(\"| A | B | OUT |\")\n",
    "for in0 in range (2):\n",
    "    for in1 in range (2):\n",
    "        or_op0.write(in0)\n",
    "        or_op1.write(in1)\n",
    "        res_or = or_out.read()\n",
    "        print('|', in0, '|', in1, '| ',res_or,' |')"
   ]
  },
  {
   "cell_type": "markdown",
   "metadata": {},
   "source": [
    "## The XOR gate"
   ]
  },
  {
   "cell_type": "code",
   "execution_count": 23,
   "metadata": {},
   "outputs": [
    {
     "name": "stdout",
     "output_type": "stream",
     "text": [
      "XOR\n",
      "| A | B | OUT |\n",
      "| 0 | 0 |  0  |\n",
      "| 0 | 1 |  1  |\n",
      "| 1 | 0 |  1  |\n",
      "| 1 | 1 |  0  |\n"
     ]
    }
   ],
   "source": [
    "print(\"XOR\")\n",
    "print(\"| A | B | OUT |\")\n",
    "for in0 in range (2):\n",
    "    for in1 in range (2):\n",
    "        xor_op0.write(in0)\n",
    "        xor_op1.write(in1)\n",
    "        res_xor = xor_out.read()\n",
    "        print('|', in0, '|', in1, '| ',res_xor,' |')"
   ]
  },
  {
   "cell_type": "markdown",
   "metadata": {},
   "source": [
    "## The 4-bits AND gate"
   ]
  },
  {
   "cell_type": "code",
   "execution_count": 24,
   "metadata": {},
   "outputs": [],
   "source": [
    "and4_op0 = [and4_op0_0, and4_op0_1, and4_op0_2, and4_op0_3]\n",
    "and4_op1 = [and4_op1_0, and4_op1_1, and4_op1_2, and4_op1_3]\n",
    "res = [and4_out0, and4_out1, and4_out2, and4_out3]"
   ]
  },
  {
   "cell_type": "markdown",
   "metadata": {},
   "source": [
    "### set inputs"
   ]
  },
  {
   "cell_type": "code",
   "execution_count": 29,
   "metadata": {},
   "outputs": [],
   "source": [
    "data0 = [1,0,1,0]\n",
    "data1 = [1,0,0,1]\n"
   ]
  },
  {
   "cell_type": "markdown",
   "metadata": {},
   "source": [
    "### Write inputs to the AND gate"
   ]
  },
  {
   "cell_type": "code",
   "execution_count": 30,
   "metadata": {},
   "outputs": [
    {
     "name": "stdout",
     "output_type": "stream",
     "text": [
      " A = [1, 0, 1, 0]\n",
      " B = [1, 0, 0, 1]\n"
     ]
    }
   ],
   "source": [
    "for op, data in zip(and4_op0, data0):\n",
    "    op.write(data)\n",
    "    \n",
    "for op, data in zip(and4_op1, data1):\n",
    "    op.write(data)\n",
    "    \n",
    "print(\" A =\", data0)\n",
    "print(\" B =\", data1)"
   ]
  },
  {
   "cell_type": "markdown",
   "metadata": {},
   "source": [
    "### Check the result"
   ]
  },
  {
   "cell_type": "code",
   "execution_count": 31,
   "metadata": {},
   "outputs": [
    {
     "name": "stdout",
     "output_type": "stream",
     "text": [
      "result: [1, 0, 0, 0]\n"
     ]
    }
   ],
   "source": [
    "print(\"result:\", [result.read() for result in res])"
   ]
  },
  {
   "cell_type": "code",
   "execution_count": 37,
   "metadata": {},
   "outputs": [
    {
     "name": "stdout",
     "output_type": "stream",
     "text": [
      " A = [1, 0, 1, 1]\n",
      " B = [1, 0, 1, 1]\n",
      "result: [1, 0, 1, 1]\n"
     ]
    }
   ],
   "source": [
    "data0 = [1,0,1,1]\n",
    "data1 = [1,0,1,1]\n",
    "\n",
    "for op, data in zip(and4_op0, data0):\n",
    "    op.write(data)\n",
    "    \n",
    "for op, data in zip(and4_op1, data1):\n",
    "    op.write(data)\n",
    "    \n",
    "print(\" A =\", data0)\n",
    "print(\" B =\", data1)\n",
    "    \n",
    "print(\"result:\", [result.read() for result in res])"
   ]
  },
  {
   "cell_type": "code",
   "execution_count": null,
   "metadata": {},
   "outputs": [],
   "source": []
  }
 ],
 "metadata": {
  "kernelspec": {
   "display_name": "Python 3",
   "language": "python",
   "name": "python3"
  },
  "language_info": {
   "codemirror_mode": {
    "name": "ipython",
    "version": 3
   },
   "file_extension": ".py",
   "mimetype": "text/x-python",
   "name": "python",
   "nbconvert_exporter": "python",
   "pygments_lexer": "ipython3",
   "version": "3.6.5"
  }
 },
 "nbformat": 4,
 "nbformat_minor": 2
}
